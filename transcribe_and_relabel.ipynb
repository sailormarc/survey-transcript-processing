{
  "cells": [
    {
      "cell_type": "markdown",
      "metadata": {},
      "source": [
        "## Automatic transcriptions\n",
        "\n",
        "This script performs automatic transcription of the (cleaned) audio files from the telephone survey.\n",
        "It proceeds in two steps:\n",
        "1. It uses the deepgram nova2-phonecall model to transcribe. The diarization (identification of different speakers) is imperfect, so\n",
        "2. It calls the openai chat completion API to relabel the text and correct minor mistakes. [This step should be augmented in future to include domain specific knowledge and correct simple misnomers]\n",
        "\n",
        "The main functions used in the script are defined in utils.py."
      ]
    },
    {
      "cell_type": "code",
      "execution_count": 1,
      "metadata": {
        "id": "HVodYM_7rvHW"
      },
      "outputs": [],
      "source": [
        "# Import necessary libraries\n",
        "import utils\n",
        "import os\n",
        "\n",
        "# set input, output and temp directories\n",
        "data_dir = \"../../data\"\n",
        "input_dir_round1 = os.path.join(data_dir, \"audio/audios_feb2024/processed_files\")\n",
        "input_dir_round2 = os.path.join(data_dir, \"audio/audios_apr2024/processed_files\")\n",
        "\n",
        "output_dir_round1 = os.path.join(data_dir, \"transcriptions_all/transcriptions_round1_relabeled\")\n",
        "output_dir_round2 = os.path.join(data_dir, \"transcriptions_all/transcriptions_round2_relabeled\")\n",
        "\n",
        "temp_dir = os.path.join(data_dir, \"temp\")"
      ]
    },
    {
      "cell_type": "markdown",
      "metadata": {},
      "source": [
        "Transcription and relabeling, round 1"
      ]
    },
    {
      "cell_type": "code",
      "execution_count": null,
      "metadata": {
        "colab": {
          "base_uri": "https://localhost:8080/"
        },
        "id": "h48wyFytGwf0",
        "outputId": "63ab5e6d-dad3-44e8-a080-3b50bc43dd27"
      },
      "outputs": [],
      "source": [
        "# Run the transcription\n",
        "utils.nova2(input_dir_round1, temp_dir)\n",
        "\n",
        "print(\"Success.\")\n",
        "\n",
        "# Run the relabeling\n",
        "utils.run_relabeling(temp_dir, output_dir_round1)\n",
        "\n",
        "# delete the temp directory\n",
        "os.system(f'rm -rf {temp_dir}')\n",
        "print(\"Temp directory deleted.\")"
      ]
    },
    {
      "cell_type": "markdown",
      "metadata": {},
      "source": [
        "Transcription and relabeling, round 2"
      ]
    },
    {
      "cell_type": "code",
      "execution_count": 2,
      "metadata": {},
      "outputs": [
        {
          "name": "stdout",
          "output_type": "stream",
          "text": [
            "14a4f764fcf53bb5ad11807a362e1714adfbdf56\n",
            "Processing file: ../data/audio/audios_apr2024/processed_files/3534491602.wav\n",
            "Processing file: ../data/audio/audios_apr2024/processed_files/3244604220.wav\n",
            "Processing file: ../data/audio/audios_apr2024/processed_files/3249896645.wav\n",
            "Success.\n",
            "Processing file: ../data/temp/3534491602.txt\n",
            "Result saved to: ../data/transcriptions_all/transcriptions_round2_relabeled/3534491602.txt\n",
            "Processing file: ../data/temp/3244604220.txt\n",
            "Result saved to: ../data/transcriptions_all/transcriptions_round2_relabeled/3244604220.txt\n",
            "Processing file: ../data/temp/3249896645.txt\n",
            "Result saved to: ../data/transcriptions_all/transcriptions_round2_relabeled/3249896645.txt\n",
            "Temp directory deleted.\n"
          ]
        }
      ],
      "source": [
        "### Same for round 2\n",
        "\n",
        "# Run the transcription\n",
        "utils.nova2(input_dir_round2, temp_dir)\n",
        "\n",
        "print(\"Success.\")\n",
        "\n",
        "# Run the relabeling\n",
        "utils.run_relabeling(temp_dir, output_dir_round2)\n",
        "\n",
        "# delete the temp directory\n",
        "os.system(f'rm -rf {temp_dir}')\n",
        "print(\"Temp directory deleted.\")"
      ]
    }
  ],
  "metadata": {
    "colab": {
      "provenance": []
    },
    "kernelspec": {
      "display_name": "Python 3",
      "name": "python3"
    },
    "language_info": {
      "codemirror_mode": {
        "name": "ipython",
        "version": 3
      },
      "file_extension": ".py",
      "mimetype": "text/x-python",
      "name": "python",
      "nbconvert_exporter": "python",
      "pygments_lexer": "ipython3",
      "version": "3.12.3"
    }
  },
  "nbformat": 4,
  "nbformat_minor": 0
}
